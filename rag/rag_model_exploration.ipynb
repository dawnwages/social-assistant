{
 "cells": [
  {
   "cell_type": "markdown",
   "metadata": {},
   "source": [
    "# RAG exploration"
   ]
  },
  {
   "cell_type": "markdown",
   "metadata": {},
   "source": [
    "Instead of being grounded in single content, what if we want the chat to generate content using knowledge from multiple sources? Now that we know how to deploy our app with RAG, let's integrate VS Code release notes as referenceable data using **RAG and modified hybrid search** for the chat to provide outputs with broader set of context."
   ]
  },
  {
   "cell_type": "markdown",
   "metadata": {},
   "source": [
    "Normally, we'd leverage proprietary data for RAG, but since this is a public demo, we'll use publicly available VS Code release notes to give users insights into recent updates, new features, and workflow improvements. The goal here isn't to showcase RAG itself, but to **demonstrate how RAG can be explored with different embedding models and completion models to optimize results**.\n",
    "\n",
    "**So here is our plan:**\n",
    "1. Use TF-IDF to **extract keywords** from user query\n",
    "2. Conduct **full-text search** from the extracted keywords & get top 10 results\n",
    "3. Conduct a **semantic search** over the result of the full-text search & get top 3 results - experimenting with embeddings models\n",
    "4. **Generate answer** based on the results - experimenting with completions models\n",
    "\n",
    "_(If you're familiar with RAG, you already know which part of the hybrid search was modified 😉)_\n",
    "\n",
    "![outline](./outline.png)"
   ]
  },
  {
   "cell_type": "markdown",
   "metadata": {},
   "source": [
    "Let's first try answering the question, `\"What are recent features for Copilot chat in notebooks?\"` using an off-the-shelf LLM model.\n",
    "\n",
    "We can navigate to GitHub Marketplace to answer the question using one of the models through the built-in playground:\n",
    "\n",
    "![gpt-4o-mini-answer](./gpt-4o-mini-answer.png)"
   ]
  },
  {
   "cell_type": "markdown",
   "metadata": {},
   "source": [
    "The content seems great but quite generic. It also doesn't have any specific links to the features mentioned. Let's see how implementing RAG would help improve this -- and compare various AI models along the way."
   ]
  },
  {
   "cell_type": "markdown",
   "metadata": {},
   "source": [
    "## 📚 Load data\n",
    "\n",
    "Since VS Code team uses a GitHub repo to manage the release notes, I used the GitHub API to fetch the release notes. Each release notes \"document\" can be long, so I knew I had to chunk the data, and chunk them in a way that preserves text segments with related context. Since the VS Code team manages the release notes in markdown format, I used a markdown parser ([LangChain's `markdown_header_metadata_splitter`](https://python.langchain.com/docs/how_to/markdown_header_metadata_splitter/)) to chunk each release notes so that release features can fit into the embeddings models that have much smaller token limits.\n",
    "\n",
    "Let's load the data that we've saved.\n",
    "\n",
    "> **Copilot (✨generate cell):** `Load release_notes.json as docs_contents`"
   ]
  },
  {
   "cell_type": "code",
   "execution_count": 2,
   "metadata": {},
   "outputs": [
    {
     "data": {
      "text/plain": [
       "{'content': \"See what is new in the Visual Studio Code February 2017 Release (1.10)  \\n### Ability to select and start a launch using keyboard  \\nThe option to launch debug configurations using just the keyboard (no mouse gesture necessary) was added, as per [this request](https://github.com/microsoft/vscode/issues/16613). It works similarly to running tasks, with an ability to launch a debugging session from the **Command Palette**. The keyword `'debug '` or the command **Debug: Select and Start Debugging** from the **Command Palette** is used to select and launch a configuration from `launch.json`.  \\n![launch](images/1_10/launch-keyboard.gif)\",\n",
       " 'url': 'https://code.visualstudio.com/updates/v1_10#_ability-to-select-and-start-a-launch-using-keyboard',\n",
       " 'id': 121}"
      ]
     },
     "execution_count": 2,
     "metadata": {},
     "output_type": "execute_result"
    }
   ],
   "source": [
    "import json\n",
    "\n",
    "with open('release_notes.json', 'r') as file:\n",
    "    release_notes = json.load(file)\n",
    "\n",
    "release_notes[101]\n",
    "\n",
    "# GitHub.copilot-chat/inline.request"
   ]
  },
  {
   "cell_type": "markdown",
   "metadata": {},
   "source": [
    "## 🔍 Hybrid search, modified for experimentation\n",
    "\n",
    "Let's conduct a **_modified hybrid search_** that combines **full-text search** and **vector similarity search** to retrieve the most relevant documents. Where is it \"modified\"? If you haven't guessed already, instead of pre-generating embeddings for all of our documents and conducting the two search methods _simultaneously_, we're going to enable experimentation with various embeddings models by running the full-text and vector similarity search _consecutively_.\n",
    "\n",
    "We'll first start with a full-text search based on keywords across all of our release notes. After obtaining the results, we'll generate embeddings for _only these results on the fly_ and then conduct a vector similarity search using those embeddings."
   ]
  },
  {
   "cell_type": "markdown",
   "metadata": {},
   "source": [
    "But I'm not sure which tool to use for the full-text search. Let's ask Copilot.\n",
    "\n",
    "> **Copilot (side panel chat):** `Recommend a few options for lightweight and fast full-text search engine`\n",
    "\n",
    "I like that MeiliSearch is open source and easy to deploy and use. This is perfect for the purposes of this demo. Let's use that.\n",
    "\n",
    "You can manage your dev environment freely in Codespaces, so let's install MeiliSearch through the terminal and use the [self-hosted option](https://www.meilisearch.com/docs/learn/self_hosted/getting_started_with_self_hosted_meilisearch).\n",
    "\n",
    "```bash\n",
    "# Install Meilisearch\n",
    "curl -L https://install.meilisearch.com | sh\n",
    "\n",
    "# Launch Meilisearch\n",
    "./meilisearch &\n",
    "```\n",
    "\n",
    "Now that we have MeiliSearch running, let's install the Python package (`pip install meilisearch`) and load our documents into MeiliSearch."
   ]
  },
  {
   "cell_type": "code",
   "execution_count": 7,
   "metadata": {},
   "outputs": [
    {
     "data": {
      "text/plain": [
       "TaskInfo(task_uid=8, index_uid='latest_release', status='enqueued', type='documentAdditionOrUpdate', enqueued_at=datetime.datetime(2024, 10, 10, 0, 51, 3, 768598))"
      ]
     },
     "execution_count": 7,
     "metadata": {},
     "output_type": "execute_result"
    }
   ],
   "source": [
    "import meilisearch\n",
    "\n",
    "ms_client = meilisearch.Client('http://127.0.0.1:7700')\n",
    "ms_client.index('release').add_documents(release_notes)"
   ]
  },
  {
   "cell_type": "markdown",
   "metadata": {},
   "source": [
    "Let's conduct a test search, and `Open Cell Output in Text Editor`"
   ]
  },
  {
   "cell_type": "code",
   "execution_count": 3,
   "metadata": {},
   "outputs": [
    {
     "data": {
      "text/plain": [
       "[{'content': 'Learn what is new in the Visual Studio Code June 2023 Release (1.80)  \\n## Contributions to extensions  \\n### GitHub Copilot  \\nWe have introduced preview-only slash commands in the Chat view to help you create projects and notebooks and search for text in your workspace.  \\n>**Note**: To get access to the Chat view, inline chat, and slash commands (for example `/search`, `/createWorkspace`), you need to install the [GitHub Copilot Chat](https://marketplace.visualstudio.com/items?itemName=GitHub.copilot-chat) extension.  \\n#### Create workspaces  \\nYou can ask Copilot to create workspaces for popular project types with the `/createWorkspace` slash command. Copilot will first generate a directory structure for your request.  \\n<video src=\"images/1_80/create-workspace-outline.mp4\" autoplay loop controls muted title=\"Create workspace outline\"></video>  \\nYou can then use the **Create Workspace** button to create and open the project directory as a new workspace.  \\n![Create and open workspace using GitHub Copilot](images/1_80/create-workspace-png.png)  \\n#### Create notebooks  \\nYou can ask Copilot to create Jupyter notebooks based on your requirements with the `/createNotebook` slash command. Copilot will generate an outline of the notebook based on your requirements.  \\n<video src=\"images/1_80/create-notebook-outline.mp4\" autoplay loop controls muted title=\"Create notebook outline\"></video>  \\nYou can then use the **Create Notebook** command to create the notebook and fill in the code cells based on the suggested outline.  \\n<video src=\"images/1_80/create-notebook-generation.mp4\" autoplay loop controls muted title=\"Generate code cells in the notebook\"></video>  \\n#### Generate search parameters  \\nYou can ask Copilot to autofill the search parameters in workspace search. To do this, use the `/search` command followed by a description of what you want to find in text.  \\n<video src=\"images/1_80/copilot-search-demo.mp4\"  autoplay loop controls muted title=\"Copilot search command demo\"></video>  \\nThese preview slash commands can be enabled by configuring `github.copilot.advanced` setting as follows:  \\n```json\\n\"github.copilot.advanced\": {\\n\"slashCommands\": {\\n\"createWorkspace\": true,\\n\"createNotebook\": true,\\n\"search\": true\\n}\\n}\\n```  \\n#### Copilot YouTube playlist  \\nThere is a new installment covering [Copilot for PowerShell](https://www.youtube.com/watch?v=EwtRzAFiXEM) in the [VS Code Copilot Series](https://www.youtube.com/playlist?list=PLj6YeMhvp2S5_hvBl2SE-7YCHYlLQ0bPt) on YouTube. In case you missed the series, you\\'ll also find other [language-specific](https://www.youtube.com/watch?v=VsUQlSyQn1E&list=PLj6YeMhvp2S5_hvBl2SE-7YCHYlLQ0bPt&index=6) talks and guidance on [effective prompting](https://www.youtube.com/watch?v=ImWfIDTxn7E&list=PLj6YeMhvp2S5_hvBl2SE-7YCHYlLQ0bPt&index=9) when using Copilot for development.',\n",
       "  'url': 'https://code.visualstudio.com/updates/v1_80#_github-copilot',\n",
       "  'id': 3404},\n",
       " {'content': 'Learn what is new in the Visual Studio Code September 2024 Release (1.94)  \\n### Attach variables in notebook chat  \\nWhen you use Copilot in a notebook, you can now attach variables from the Jupyter kernel in your requests. Adding variables gives you more precise control over the context for your chat request, so that you get more relevant responses from Copilot.  \\nEither type `#`, followed by the variable name, or use the 📎 control (`kb(workbench.action.chat.attachContext)`) in Inline Chat to add a context variable.  \\n<video src=\"images/1_94/notebook-kernel-variable.mp4\" title=\"Attach a context variable by using `#` in a notebook chat request\" autoplay loop controls muted></video>',\n",
       "  'url': 'https://code.visualstudio.com/updates/v1_94#_attach-variables-in-notebook-chat',\n",
       "  'id': 3982},\n",
       " {'content': 'Learn what is new in the Visual Studio Code March 2024 Release (1.88)  \\n### GitHub Copilot  \\n#### Inline Chat improvements  \\nInline Chat now starts as a floating control, making it more lightweight. After the first request, the control expands to take up more space. We have also adjusted the rendering to be more consistent with other chat experiences, such as the Chat view or Quick Chat.  \\n![Inline Chat As Content Widget floating over the editor text](./images/1_88/inline-chat-content.png)\\n_Theme: [GitHub Light Colorblind (Beta)](https://marketplace.visualstudio.com/items?itemName=GitHub.github-vscode-theme)_  \\nWe\\'ve repositioned the rerun and feedback controls, and made the toggle control for viewing diffs more prominent alongside the Accept and Discard buttons.  \\n![Screenshot of the Copilot Inline Chat, showing the repositioned controls.](./images/1_88/inline-chat-convo.png)\\n_Theme: [GitHub Light Colorblind (Beta)](https://marketplace.visualstudio.com/items?itemName=GitHub.github-vscode-theme)_  \\n#### Notebook kernel state as context  \\nWhen you are in a notebook, the kernel state (for example, variables and available packages) is now automatically included as context in Inline Chat. This lets Copilot use the current state of the notebook to provide more relevant completions.  \\n<video src=\"images/1_88/notebook-kernel-context.mp4\" title=\"Notebook emebeds kernel state in context\" autoplay loop controls muted></video>  \\n_Theme: [GitHub Dark](https://marketplace.visualstudio.com/items?itemName=GitHub.github-vscode-theme)_  \\n#### Commit message generation improvements  \\nTo improve the quality of the generated commit messages, we are now also including the commit messages of the 10 most recent commits in the repository, and the commit messages of the 10 most recent commits of the current user as extra context.  \\n#### Workspace creation improvements  \\nThe `@workspace /new` command now offers sample projects, curated from GitHub repositories, as suggestions when a suitable match is detected for the chat prompt.  \\n![Chat view with @workspace /new that provides a link to a sample project](images/1_88/new-workspace-project-templates.png)  \\nThe `@workspace /new` command has also been enhanced to more effectively manage context and history. This enables you to refine suggested workspaces structure and file contents by asking follow-up queries. For example, \"use TypeScript instead of JavaScript\" or \"also add bootstrap\".  \\n#### @terminal /explain slash command  \\nA new `@terminal /explain` slash command is available, which is optimized for explaining commands or errors. Without `/explain`, `@terminal` is optimized to suggest a fix. This slash command is used in the **Explain using Copilot** quick fix or the **Explain selection** actions.  \\n![Using the explain using copilot quick fix will ask copilot \"@terminal /explain #terminalLastCommand\"](images/1_88/copilot-terminal-explain.png)  \\n#### Preview: Terminal Inline Chat  \\nA preview of the terminal Inline Chat is available in this release, which gives convenient access to Copilot\\'s capabilities directly in the terminal.  \\nYou can enable terminal Inline Chat with the <code codesetting=\"terminal.integrated.experimentalInlineChat:true\">terminal.integrated.experimentalInlineChat</code> setting. To invoke the inline chat in a terminal, use the `kb(inlinechat.start)` keybinding.  \\n![Opening terminal inline chat will open and focus an input box similar to inline chat in the editor](images/1_88/copilot-terminal-inline.png)  \\nThe terminal Inline Chat uses the `@terminal` chat participant, which has context about the integrated terminal\\'s shell and its contents.  \\n![You can ask complex questions like \"list the top 5 largest files in the src directory\"](images/1_88/copilot-terminal-inline-query.png)  \\nOnce a command is suggested, use `kb(workbench.action.terminal.chat.runCommand)` to run the command in the terminal or `kb(workbench.action.terminal.chat.insertCommand)` to insert the command into the terminal. The command can also be edited directly in Copilot\\'s response before running it (currently `kbstyle(Ctrl+down)`, `kbstyle(Tab)`, `kbstyle(Tab)` on Windows & Linux, `kbstyle(Cmd+down)`, `kbstyle(Tab)`, `kbstyle(Tab)` on macOS).  \\n![Complex queries are OS and shell-specific](images/1_88/copilot-terminal-inline-answer.png)  \\n#### Clarity on authentication flow  \\nClarity around authentication is very important. We want to be clear about how we authenticate and what we ask for. If you open a private repository in VS Code, and we don\\'t have the right authentication for this scenario, we present an authentication dialog. The dialog has a description of why authentication is needed, and a **Learn more** button to find out more about these requirements.  \\n![Screenshot of a modal window that\\'s asking to authenticate with GitHub and that contains a Learn more button](images/1_88/learnmoreauth.png)  \\nThe **Learn more** button takes you to our [documentation on authentication requirements](https://github.com/microsoft/vscode-copilot-release/blob/a032cf75104a99ca745118ca51ea77219441a898/docs/copilot-repo-scope.md).  \\n#### Variable references  \\nThe **Used references** section in a chat response gives information about the context that is used. Previously, this section only showed context that was pulled in implicitly. Now, it also shows variables that you mentioned explicitly in the chat prompt, such as `#file` or `#editor`. If a variable is missing from the Used references, it might indicate that it was ignored because it\\'s too large for the context window of the language model.  \\n![Screenshot of a chat response, showing the \\'#file\\' variable in the Used references section](images/1_88/chat-variable-reference.png)  \\n#### Secondary chat submit actions  \\nIn the Chat view, the chat submit button now has a dropdown for easy access to more actions.  \\n* **Send to @workspace** submits your query to the `@workspace` chat participant, which is useful for questions about the contents of your workspace\\n* **Send to New Chat** starts a new empty chat, and then submits the query  \\n![Screenshot of the chat submit dropdown options](images/1_88/chat-submit-dropdown.png)  \\n#### Scope selection when using `Copilot: Explain This`  \\nWhen you use `/explain` without a selection in your active editor, and there are multiple scopes of interest, we\\'ve added support for prompting to clarify which symbol or block scope to explain.  \\n![Screenshot of the scope selection quick pick when the scope for /explain is unclear](images/1_88/copilot-scope-selection.png)  \\nThis behavior is currently opt-in, behind the <code codesetting=\"github.copilot.chat.scopeSelection\">github.copilot.chat.scopeSelection</code> setting.',\n",
       "  'url': 'https://code.visualstudio.com/updates/v1_88#_github-copilot',\n",
       "  'id': 3716},\n",
       " {'content': 'Learn what is new in the Visual Studio Code September 2024 Release (1.94)  \\n### Accept and run generated code in notebook  \\nWhen you use Copilot Inline Chat to generate code in a notebook, you can now accept and directly run the generated code from Inline Chat.  \\n<video src=\"images/1_94/notebook-accept-run.mp4\" title=\"Accept and run generated code directly from Inline Chat\" autoplay loop controls muted></video>',\n",
       "  'url': 'https://code.visualstudio.com/updates/v1_94#_accept-and-run-generated-code-in-notebook',\n",
       "  'id': 3981},\n",
       " {'content': \"Learn what is new in the Visual Studio Code January 2023 Release (1.75)  \\n### GitHub Copilot  \\nThe [GitHub Copilot extension](https://marketplace.visualstudio.com/items?itemName=GitHub.copilot) is an AI-powered code completion tool that helps you write code faster and smarter. You can use the Copilot extension in VS Code to generate code, or to learn from the code it generates.  \\nGitHub Copilot integrates into the VS Code editor through the [inline suggestions UI](#redesigned-inline-suggestions-toolbar), which lets you review various suggestions and easily accept all or part of the generated code.  \\nGitHub Copilot is now generally available for businesses, with features like license management, organization-wide policy controls, and privacy protections. You can learn more in the [GitHub Copilot for Business announcement](https://github.blog/2022-12-07-github-copilot-is-generally-available-for-businesses/).  \\nTo get started, you can sign up for a free trial on the [GitHub Copilot website](https://copilot.github.com).  \\nWe've also added a new [GitHub Copilot in VS Code](https://code.visualstudio.com/docs/editor/github-copilot) topic to the VS Code documentation that will help you get started with Copilot.\",\n",
       "  'url': 'https://code.visualstudio.com/updates/v1_75#_github-copilot',\n",
       "  'id': 3164},\n",
       " {'content': 'Learn what is new in the Visual Studio Code April 2023 Release (1.78)  \\n### GitHub Copilot  \\n>**Note**: These features are available in the [GitHub Copilot Chat](https://marketplace.visualstudio.com/items?itemName=GitHub.copilot-chat) extension.  \\n#### Chat editors  \\nOur first iteration on GitHub Copilot Chat enabled chat sessions in the sidebar. Now, we support opening the same chat view as an editor. This lets you customize the position of your chat session to be anywhere you want within your window layout.  \\nYou can open a chat editor by running the command **Interactive Session: Open Editor** and then move it between editor groups just as you would with any other editor.  \\n![A chat view as an editor](images/1_78/chat-editor.png)  \\n#### Additional codeblock commands  \\nThere are two new commands in the codeblock toolbar, **Insert into New File** and **Run in Terminal**. These are next to the existing commands **Copy** and **Insert at Cursor**, and give you extra options for quickly taking action on the code suggestions that are returned from Copilot.  \\n![The codeblock toolbar showing the two new codeblock commands](images/1_78/chat-codeblock-commands.png)  \\n#### Code Actions and inline chat  \\nEditor chat sessions are now integrated with the Quick Fixes. Select the light bulb for a squiggle and there are options to fix or explain using Copilot.  \\n<video src=\"images/1_78/chat-code-actions.mp4\" autoplay loop controls muted  title=\"Code Actions and Inline Chat\"></video>  \\nIn addition to Code Actions, inline chat is now also available from the editor context menu.  \\n#### Inline chat modes  \\nThere is now a setting to change the different modes of inline chat: `inlineChat.editMode`.  \\nThe options are:  \\n* `live` - Apply AI suggested changes directly to the editor (default).\\n* `livePreview` - Apply changes but renders them in an embedded diff editor.\\n* `preview` - Show changes in a disconnected, embedded diff editor.  \\n#### Similar commands in the Command Palette  \\nWith the power of Copilot, the Command Palette is now able to show similar command results. To enable this, you must have an active Copilot subscription, be in the private preview of the chat view, and apply the setting:  \\n```json\\n\"workbench.commandPalette.experimental.useSemanticSimilarity\": true\\n```  \\nHere are some examples:  \\n* \"turn on autosave\" being interpreted as **Toggle Auto Save**  \\n![query \"turn on autosave\" is correctly resolved to Toggle Auto Save](images/1_78/command-palette-similar-results.png)  \\n* \"add function\" includes additional results at the bottom with contributions from extensions  \\n![query \"add function\" including Azure Functions Create Function command](images/1_78/command-palette-similar-results-2.png)  \\n* Lastly, if your results yield no results, you can **Ask GitHub Copilot**, which puts what\\'s in your filter box in a new chat for Copilot to handle.  \\n![Ask GitHub Copilot \"no results\" option in the Command Palette](images/1_78/ask-copilot.png)  \\nWe will be iterating in this space so stay tuned!',\n",
       "  'url': 'https://code.visualstudio.com/updates/v1_78#_github-copilot',\n",
       "  'id': 3277},\n",
       " {'content': 'Learn what is new in the Visual Studio Code May 2024 Release (1.90)  \\n## Contributions to extensions  \\n### GitHub Copilot  \\n#### Attach context to chat  \\nTo make your chat prompts more specific, you can add context to your chat messages. You can now attach more types of context to a chat message, such as workspace symbols. Previously, you used the \\'#\\' symbol to reference a file, or the current selection. Now, you can attach context  to a chat message by selecting the 📎 icon in the Chat view input field, or by typing `kb(workbench.action.chat.attachContext)`.  \\n> **Tip**: Use the right arrow key to quickly attach context in the background while you keep the context picker open. When you\\'re in the editor, you can also right-click on a selection and choose **Copilot > Add Selection to Chat**.  \\n<video src=\"images/1_90/chat-context-attachments.mp4\" title=\"Attach context to chat\" autoplay loop controls muted></video>  \\n#### Ask questions using Bing search and enterprise knowledge bases  \\n[GitHub Copilot Enterprise](https://docs.github.com/en/enterprise-cloud@latest/copilot/github-copilot-enterprise/overview/about-github-copilot-enterprise) users in VS Code can now ask questions that are enriched with context from web results and your enterprise\\'s [knowledge bases](https://docs.github.com/en/enterprise-cloud@latest/copilot/github-copilot-enterprise/copilot-chat-in-github/managing-copilot-knowledge-bases). To try out this functionality, install the latest pre-release of Copilot Chat.  \\nIn the Chat view, you can ask questions like `@github What is the latest LTS of Node.js? #web` to take advantage of web search. Any search results referenced by Copilot are displayed in the `Used References` section of the chat response.  \\n![Web search results in Copilot Chat](images/1_90/copilot-enterprise-bing-search.png)  \\nYou can also ask questions about your enterprise\\'s knowledge bases, which are collections of Markdown repositories containing documentation, directly from VS Code. Simply type `@github #kb` to pick from the knowledge bases available to you. Similarly, any knowledge base snippets referenced by Copilot are displayed in the `Used References` section of the chat response.  \\nThis enables Copilot Enterprise users to combine search results and internal documentation with editor context by using existing chat variables, such as `#file` and `#selection`. Please try it out and share your feedback with us at https://github.com/microsoft/vscode-copilot-release!  \\n#### IntelliSense in chat code blocks  \\nWe now support basic IntelliSense within Copilot-generated code blocks. This lets you use many of the same IntelliSense tools that you might already use in the editor and can help you better understand the generated code.  \\n![Hover IntelliSense in Copilot chat code block](images/1_90/copilot-hover-intellisense.png)  \\nThe supported IntelliSense features include:  \\n- Go to definition by using `kbstyle(ctrl)` `kbstyle(click)` / `kbstyle(cmd)` `kbstyle(click)` or `kb(editor.action.revealDefinition)`\\n- Hovers\\n- Go to implementation\\n- Go to type definition  \\nIntelliSense can even be used with `@workspace` to learn about any workspace symbols that are used in Copilot responses.  \\n<video src=\"images/1_90/copilot-workspace-intellisense.mp4\" title=\"IntelliSense on a @workspace code block\" autoplay loop controls muted></video>  \\nIntelliSense for TypeScript, JavaScript, HTML, and CSS code blocks is available out of the box. For additional language support, try installing an extension for that language, although not every language extension already has support for code block IntelliSense. Please file feature requests for any languages that aren\\'t yet supporting this.  \\n#### Improved links in chat responses  \\nWe improved chat responses by adding links for file names and symbols. By selecting these links, you can navigate to the corresponding file or symbol in the editor.  \\n![Clickable links for symbols used with /explain](images/1_90/copilot-link-explain.png)  \\n![Clickable file and symbol links for an @workspace question](images/1_90/copilot-link-workspace.png)  \\n#### Roam active chat between inline chat and Chat view  \\nYou can now move a chat request that is completed or still active from inline chat to the Chat view. You might use this feature to clean up inline chat and move conversations to a more persistent place. To move a request, select the chat icon next to the chat input box.  \\n![Move a chat conversation from inline chat to the Chat view](images/1_90/move-chat-conversation-to-chat-view.png)  \\n#### Automatic rename suggestions  \\nIf you use the [Copilot Chat](https://marketplace.visualstudio.com/items?itemName=GitHub.copilot-chat) extension, the Copilot-powered rename suggestions are now triggered automatically when you rename a symbol. You can turn this feature off by using the setting <code codesetting=\"github.copilot.renameSuggestions.triggerAutomatically\">github.copilot.renameSuggestions.triggerAutomatically</code>.  \\n<video src=\"images/1_90/rename-suggestions.mp4\" title=\"Automatically-triggered rename suggestions\" autoplay loop controls muted></video>',\n",
       "  'url': 'https://code.visualstudio.com/updates/v1_90#_github-copilot',\n",
       "  'id': 3847},\n",
       " {'content': 'Learn what is new in the Visual Studio Code May 2024 Release (1.90)  \\n### Extending GitHub Copilot through GitHub Apps  \\nIt is also possible to extend GitHub Copilot by contributing a GitHub App. This GitHub App can contribute a chat participant in the Chat view, which you can invoke with `@`. A GitHub App is backed by a service and works across all GitHub Copilot surfaces, such as github.com, Visual Studio, or VS Code. GitHub Apps do not have full access to the VS Code API. To extend GitHub Copilot through a GitHub App, you should join the [Copilot Partner Program](https://github.com/features/preview/copilot-partner-program). You can learn more by watching the [Extending GitHub Copilot](https://build.microsoft.com/en-US/sessions/0121ee70-fd82-419f-a7ad-75bbb70cfd41) talk we delivered at the Microsoft Build conference.',\n",
       "  'url': 'https://code.visualstudio.com/updates/v1_90#_extending-github-copilot-through-github-apps',\n",
       "  'id': 3856},\n",
       " {'content': 'Learn what is new in the Visual Studio Code June 2024 Release (1.91)  \\n## Contributions to extensions  \\n### GitHub Copilot  \\n#### Compact Inline Chat  \\nInline chat rendering is now more compact, which makes it easier to read and understand suggestions. We are also experimenting with a more narrative style for the button text that you can enable via <code codesetting=\"inlineChat.experimental.textButtons:true\">inlineChat.experimental.textButtons</code>.  \\n![Sample of more compact inline chat in the editor.](images/1_91/inline-chat.png)  \\n#### Terminal initial hint  \\nA new hint is displayed in the terminal to help discover the inline chat.  \\n![The terminal will say \"Press Ctrl+I to ask GitHub Copilot to do something. Start typing to dismiss\"](images/1_91/copilot-terminal-hint.png)  \\nThis hint only shows when the Copilot extension is installed and there is a single terminal that has not had any interaction. It\\'s easy to dismiss the message permanently by right-clicking it. The message also dismisses after you use terminal inline chat for the first time.  \\n#### Apply Code Block  \\nThe **Apply In Editor** command on a code block in the Chat view uses the language model to determine the best approach for applying the changes to the current editor.  \\n![Chat view showing the Apply In Editor command for a code block in a chat response.](images/1_91/apply-in-editor.png)',\n",
       "  'url': 'https://code.visualstudio.com/updates/v1_91#_github-copilot',\n",
       "  'id': 3885},\n",
       " {'content': \"Learn what is new in the Visual Studio Code September 2024 Release (1.94)  \\n### GPT-4o in Inline Chat  \\nWe've upgraded Copilot Inline Chat to GPT-4o, to give you faster, more accurate, and higher-quality code and explanations when you use Chat in the editor.\",\n",
       "  'url': 'https://code.visualstudio.com/updates/v1_94#_gpt-4o-in-inline-chat',\n",
       "  'id': 3974},\n",
       " {'content': 'Learn what is new in the Visual Studio Code September 2024 Release (1.94)  \\n### Public code matching in chat  \\nYou can allow GitHub Copilot to return code that could match publicly available code on GitHub.com. When this functionality is enabled for your [organization subscription](https://docs.github.com/en/copilot/managing-copilot/managing-github-copilot-in-your-organization/setting-policies-for-copilot-in-your-organization/managing-policies-for-copilot-in-your-organization#policies-for-suggestion-matching) or [personal subscription](https://docs.github.com/en/copilot/managing-copilot/managing-copilot-as-an-individual-subscriber/managing-copilot-policies-as-an-individual-subscriber#enabling-or-disabling-suggestions-matching-public-code), Copilot code completions already provided you with details about the matches that were detected. We now show you these matches for public code in Copilot Chat as well.  \\nIf this is enabled for your organization or subscription, you might see a message at the end of the response with a **View matches** link. If you select the link, an editor opens that shows you the details of the matching code references with more details.  \\n![Chat code referencing example.](images/1_94/code-references.png)  \\nGet more information about [code referencing in GitHub Copilot](https://github.blog/news-insights/product-news/code-referencing-now-generally-available-in-github-copilot-and-with-microsoft-azure-ai/) on the GitHub Blog.',\n",
       "  'url': 'https://code.visualstudio.com/updates/v1_94#_public-code-matching-in-chat',\n",
       "  'id': 3975},\n",
       " {'content': 'Learn what is new in the Visual Studio Code September 2024 Release (1.94)  \\n### Semantic search results (Preview)  \\n**Setting**: `setting(github.copilot.chat.search.semanticTextResults)`  \\nThe Search view enables you to perform an exact search across your files. We have now added functionality to the Search view that uses Copilot to give search results that are semantically relevant.  \\n<video controls src=\"./images/1_94/semantic-search-in-search-view.mp4\" title=\"Semantic Search in Search View\" autoplay loop controls muted></video>  \\nThis functionality is still in preview and by default, the setting is not enabled. Try it out and let us know what you think!',\n",
       "  'url': 'https://code.visualstudio.com/updates/v1_94#_semantic-search-results-preview',\n",
       "  'id': 3984},\n",
       " {'content': 'Learn what is new in the Visual Studio Code September 2024 Release (1.94)  \\n### Fix test failure (Preview)  \\n**Setting**: `setting(github.copilot.chat.fixTestFailure.enabled)`  \\nWe\\'ve added specialized logic to help you to diagnose failing unit tests. This logic is triggered in some scenarios by the `/fix` slash command, and you can also invoke it directly with the `/fixTestFailure` slash command. The command is enabled in chat by default but can be disabled via the setting `setting(github.copilot.chat.fixTestFailure.enabled)`.  \\n<h2 id=\"automated-test-setup-override\"><div id=\"_automated-test-setup-override\"/></h2>',\n",
       "  'url': 'https://code.visualstudio.com/updates/v1_94#_fix-test-failure-preview',\n",
       "  'id': 3985},\n",
       " {'content': 'Learn what is new in the Visual Studio Code September 2024 Release (1.94)  \\n### Automated test setup (Experimental)  \\n**Setting**: `setting(github.copilot.chat.experimental.setupTests.enabled)`  \\nWe added an experimental `/setupTests` slash command that can help you configure the testing set up for your workspace. This command can recommend a testing framework, provide steps to set up and configure it, and suggest a VS Code extension to provide [testing integration in VS Code](https://code.visualstudio.com/docs/editor/testing). This can save you time and effort to get started with testing for your code.  \\nWhen you use the `/tests` command to generate tests for your code, it can recommend `/setupTests` and testing extensions if looks like such an integration has not been set up yet in your workspace.',\n",
       "  'url': 'https://code.visualstudio.com/updates/v1_94#_automated-test-setup-experimental',\n",
       "  'id': 3986},\n",
       " {'content': 'Learn what is new in the Visual Studio Code September 2024 Release (1.94)  \\n### Start debugging from Chat (Experimental)  \\n**Setting**: `setting(github.copilot.chat.experimental.startDebugging.enabled)`  \\nIn this milestone, we made improvements to the experimental `/startDebugging` slash command. This command enables you to easily find or create a launch configuration and start [debugging](https://code.visualstudio.com/docs/editor/debugging) your application seamlessly. When you use `@vscode` in Copilot Chat, `/startDebugging` is now available by default.  \\n![A user types /startDebugging flask app port 3000 in the panel chat and is provided with the launch configuration.](images/1_94/start-debugging.png)',\n",
       "  'url': 'https://code.visualstudio.com/updates/v1_94#_start-debugging-from-chat-experimental',\n",
       "  'id': 3987},\n",
       " {'content': 'Learn what is new in the Visual Studio Code September 2024 Release (1.94)  \\n### Improved temporal context (Experimental)  \\n**Setting**: `setting(github.copilot.chat.experimental.temporalContext.enabled)`  \\nWith temporal context, you can instruct Inline Chat to consider recently opened or edited files as part of the chat context. We have improved this feature and invite everyone to give it a go.',\n",
       "  'url': 'https://code.visualstudio.com/updates/v1_94#_improved-temporal-context-experimental',\n",
       "  'id': 3989},\n",
       " {'content': \"Learn what is new in the Visual Studio Code September 2024 Release (1.94)  \\n### Custom instructions (Experimental)  \\n**Setting**: `setting(github.copilot.chat.experimental.codeGeneration.useInstructionFiles)`  \\n**Setting**: `setting(github.copilot.chat.experimental.testGeneration.instructions)`  \\nLast milestone, we introduced custom [code-generation instructions](https://code.visualstudio.com/updates/v1_93#_code-generation-instructions). We've further expanded this functionality to define **shared instructions** for code generation in a `.github/copilot-instructions.md` file in your workspace. These common instructions supplement your own personal code generation instructions. Enable the code-generation instruction file with the `setting(github.copilot.chat.experimental.codeGeneration.useInstructionFiles)` setting.  \\nIn addition, you can now define instructions for **test generation** in settings or import them from a file. For example, if you always want to use a particular unit testing framework for your tests. Configure the test-generation instructions in the `setting(github.copilot.chat.experimental.testGeneration.instructions)` setting.\",\n",
       "  'url': 'https://code.visualstudio.com/updates/v1_94#_custom-instructions-experimental',\n",
       "  'id': 3990},\n",
       " {'content': 'Learn what is new in the Visual Studio Code June 2023 Release (1.80)  \\n### Chat audio cues  \\nThere are now audio cues for the [GitHub Copilot](https://marketplace.visualstudio.com/items?itemName=GitHub.copilot) chat experience and can be enabled via `audioCues.chatRequestSent`, `audioCues.chatResponsePending`, and `audioCues.chatResponseReceived`.',\n",
       "  'url': 'https://code.visualstudio.com/updates/v1_80#_chat-audio-cues',\n",
       "  'id': 3377},\n",
       " {'content': 'Learn what is new in the Visual Studio Code August 2023 Release (1.82)  \\n### Accessible View for inline completions  \\nInline completions, like those coming from the [GitHub Copilot](https://marketplace.visualstudio.com/items?itemName=GitHub.copilot) extension, for example, can now be inspected in the [Accessible View](https://code.visualstudio.com/docs/editor/accessibility#_accessible-view).',\n",
       "  'url': 'https://code.visualstudio.com/updates/v1_82#_accessible-view-for-inline-completions',\n",
       "  'id': 3456},\n",
       " {'content': 'Learn what is new in the Visual Studio Code September 2023 Release (1.83)  \\n### Settings editor search adjustments  \\nThe Settings editor now shows fewer results for a given search query to reduce noise. If you have the [GitHub Copilot Chat](https://marketplace.visualstudio.com/items?itemName=GitHub.copilot-chat) extension installed, in addition to settings found by keyword matches, only the top five Copilot Chat setting matches are chosen, rather than the top fifteen.  \\nThe search results are now also ordered by the Settings editor table of contents to show commonly used settings at the top, and to show filtered extension settings in their original order. To revert to ordering the search results by match type and score, set the `workbench.settings.settingsSearchTocBehavior` setting to `\"hide\"`, clear the search query, and start another search.  \\n![Searching \"default formatter\" in the Settings editor results in the editor.defaultFormatter setting appearing at the top.](images/1_83/se-default-formatter-search-example.png)  \\n_Theme: [Light Pink](https://marketplace.visualstudio.com/items?itemName=mgwg.light-pink-theme) (preview on [vscode.dev](https://vscode.dev/editor/theme/mgwg.light-pink-theme))_',\n",
       "  'url': 'https://code.visualstudio.com/updates/v1_83#_settings-editor-search-adjustments',\n",
       "  'id': 3507}]"
      ]
     },
     "execution_count": 3,
     "metadata": {},
     "output_type": "execute_result"
    }
   ],
   "source": [
    "ms_client.index('release').search('copilot notebooks', {'limit': 20})['hits']"
   ]
  },
  {
   "cell_type": "markdown",
   "metadata": {},
   "source": [
    "## 📥 Retrieve documents\n",
    "\n",
    "Since we're using natural language to query our results, let's use TF-IDF (Term Frequency - Inverse Document Frequency) to score words based on their relevance to a given document or query. This will help to find the most important words for the full-text search, which is keyword based."
   ]
  },
  {
   "cell_type": "markdown",
   "metadata": {},
   "source": [
    "### TF-IDF and full-text search\n",
    "\n",
    "> **Copilot (✨ generate cell):** `Create a function that applies TF-IDF to extract op keywords given a sentence`\n",
    "\n",
    "> **Copilot (inline):** `Exclude words like recent, new, feature`"
   ]
  },
  {
   "cell_type": "code",
   "execution_count": null,
   "metadata": {},
   "outputs": [],
   "source": [
    "from sklearn.feature_extraction.text import TfidfVectorizer\n",
    "\n",
    "def extract_top_keywords(query, documents, top_k=10):\n",
    "    vectorizer = TfidfVectorizer(stop_words='english') # remove English words that don't carry significant meaning\n",
    "    vectorizer.fit(documents) # fit the vectorizer on the documents\n",
    "\n",
    "    tfidf_matrix = vectorizer.transform([query]) # transform the query to a TF-IDF matrix\n",
    "    words = vectorizer.get_feature_names_out() # get the feature names (words)\n",
    "    scores = tfidf_matrix.toarray().flatten() # get the scores for each word in the query\n",
    "    \n",
    "    # extract top keywords based on TF-IDF scores\n",
    "    keyword_scores = dict(zip(words, scores))\n",
    "    sorted_keywords = sorted(keyword_scores.items(), key=lambda x: x[1], reverse=True)\n",
    "    \n",
    "    # define words to exclude\n",
    "    exclude_words = {'recent', 'new', 'feature', 'features', 'content', 'contents', 'release', 'releases', 'notes', 'note', 'updates', 'update'}\n",
    "    \n",
    "    # output top keywords\n",
    "    top_keywords = [word for word, score in sorted_keywords if score > 0 and word not in exclude_words][:top_k]\n",
    "    return ' '.join(top_keywords) # return keywords as a string\n"
   ]
  },
  {
   "cell_type": "code",
   "execution_count": 36,
   "metadata": {},
   "outputs": [
    {
     "name": "stdout",
     "output_type": "stream",
     "text": [
      "copilot chat notebooks\n"
     ]
    }
   ],
   "source": [
    "# Test: Print top keywords for a sample query\n",
    "q = \"What are recent features for Copilot chat in notebooks?\"\n",
    "\n",
    "documents = [doc['content'] for doc in release_notes if 'content' in doc] # only search over content of the release notes\n",
    "top_keywords = extract_top_keywords(q, documents)\n",
    "print(top_keywords)"
   ]
  },
  {
   "cell_type": "markdown",
   "metadata": {},
   "source": [
    "Now let's write a function to conduct full-text search for the most relevant documents based on the query.\n",
    "\n",
    "> **Copilot (✨ generate cell & `#kernel variable`):** `Using meilisearch and the extract_top_keywords function, write a function to conduct a full text search over only the content of #release_notes.`"
   ]
  },
  {
   "cell_type": "code",
   "execution_count": 38,
   "metadata": {},
   "outputs": [],
   "source": [
    "def full_text_search(query, documents=release_notes, index_name='release', top_k=10):\n",
    "    documents = [doc['content'] for doc in documents if 'content' in doc] # only search over content of the release notes\n",
    "    top_keywords = extract_top_keywords(query, documents)\n",
    "\n",
    "    result = ms_client.index(index_name).search(top_keywords, {'limit': top_k})['hits']\n",
    "    return result"
   ]
  },
  {
   "cell_type": "code",
   "execution_count": 41,
   "metadata": {},
   "outputs": [
    {
     "data": {
      "text/plain": [
       "[{'content': 'Learn what is new in the Visual Studio Code June 2023 Release (1.80)  \\n## Contributions to extensions  \\n### GitHub Copilot  \\nWe have introduced preview-only slash commands in the Chat view to help you create projects and notebooks and search for text in your workspace.  \\n>**Note**: To get access to the Chat view, inline chat, and slash commands (for example `/search`, `/createWorkspace`), you need to install the [GitHub Copilot Chat](https://marketplace.visualstudio.com/items?itemName=GitHub.copilot-chat) extension.  \\n#### Create workspaces  \\nYou can ask Copilot to create workspaces for popular project types with the `/createWorkspace` slash command. Copilot will first generate a directory structure for your request.  \\n<video src=\"images/1_80/create-workspace-outline.mp4\" autoplay loop controls muted title=\"Create workspace outline\"></video>  \\nYou can then use the **Create Workspace** button to create and open the project directory as a new workspace.  \\n![Create and open workspace using GitHub Copilot](images/1_80/create-workspace-png.png)  \\n#### Create notebooks  \\nYou can ask Copilot to create Jupyter notebooks based on your requirements with the `/createNotebook` slash command. Copilot will generate an outline of the notebook based on your requirements.  \\n<video src=\"images/1_80/create-notebook-outline.mp4\" autoplay loop controls muted title=\"Create notebook outline\"></video>  \\nYou can then use the **Create Notebook** command to create the notebook and fill in the code cells based on the suggested outline.  \\n<video src=\"images/1_80/create-notebook-generation.mp4\" autoplay loop controls muted title=\"Generate code cells in the notebook\"></video>  \\n#### Generate search parameters  \\nYou can ask Copilot to autofill the search parameters in workspace search. To do this, use the `/search` command followed by a description of what you want to find in text.  \\n<video src=\"images/1_80/copilot-search-demo.mp4\"  autoplay loop controls muted title=\"Copilot search command demo\"></video>  \\nThese preview slash commands can be enabled by configuring `github.copilot.advanced` setting as follows:  \\n```json\\n\"github.copilot.advanced\": {\\n\"slashCommands\": {\\n\"createWorkspace\": true,\\n\"createNotebook\": true,\\n\"search\": true\\n}\\n}\\n```  \\n#### Copilot YouTube playlist  \\nThere is a new installment covering [Copilot for PowerShell](https://www.youtube.com/watch?v=EwtRzAFiXEM) in the [VS Code Copilot Series](https://www.youtube.com/playlist?list=PLj6YeMhvp2S5_hvBl2SE-7YCHYlLQ0bPt) on YouTube. In case you missed the series, you\\'ll also find other [language-specific](https://www.youtube.com/watch?v=VsUQlSyQn1E&list=PLj6YeMhvp2S5_hvBl2SE-7YCHYlLQ0bPt&index=6) talks and guidance on [effective prompting](https://www.youtube.com/watch?v=ImWfIDTxn7E&list=PLj6YeMhvp2S5_hvBl2SE-7YCHYlLQ0bPt&index=9) when using Copilot for development.',\n",
       "  'url': 'https://code.visualstudio.com/updates/v1_80#_github-copilot',\n",
       "  'id': 3404},\n",
       " {'content': 'Learn what is new in the Visual Studio Code March 2024 Release (1.88)  \\n### GitHub Copilot  \\n#### Inline Chat improvements  \\nInline Chat now starts as a floating control, making it more lightweight. After the first request, the control expands to take up more space. We have also adjusted the rendering to be more consistent with other chat experiences, such as the Chat view or Quick Chat.  \\n![Inline Chat As Content Widget floating over the editor text](./images/1_88/inline-chat-content.png)\\n_Theme: [GitHub Light Colorblind (Beta)](https://marketplace.visualstudio.com/items?itemName=GitHub.github-vscode-theme)_  \\nWe\\'ve repositioned the rerun and feedback controls, and made the toggle control for viewing diffs more prominent alongside the Accept and Discard buttons.  \\n![Screenshot of the Copilot Inline Chat, showing the repositioned controls.](./images/1_88/inline-chat-convo.png)\\n_Theme: [GitHub Light Colorblind (Beta)](https://marketplace.visualstudio.com/items?itemName=GitHub.github-vscode-theme)_  \\n#### Notebook kernel state as context  \\nWhen you are in a notebook, the kernel state (for example, variables and available packages) is now automatically included as context in Inline Chat. This lets Copilot use the current state of the notebook to provide more relevant completions.  \\n<video src=\"images/1_88/notebook-kernel-context.mp4\" title=\"Notebook emebeds kernel state in context\" autoplay loop controls muted></video>  \\n_Theme: [GitHub Dark](https://marketplace.visualstudio.com/items?itemName=GitHub.github-vscode-theme)_  \\n#### Commit message generation improvements  \\nTo improve the quality of the generated commit messages, we are now also including the commit messages of the 10 most recent commits in the repository, and the commit messages of the 10 most recent commits of the current user as extra context.  \\n#### Workspace creation improvements  \\nThe `@workspace /new` command now offers sample projects, curated from GitHub repositories, as suggestions when a suitable match is detected for the chat prompt.  \\n![Chat view with @workspace /new that provides a link to a sample project](images/1_88/new-workspace-project-templates.png)  \\nThe `@workspace /new` command has also been enhanced to more effectively manage context and history. This enables you to refine suggested workspaces structure and file contents by asking follow-up queries. For example, \"use TypeScript instead of JavaScript\" or \"also add bootstrap\".  \\n#### @terminal /explain slash command  \\nA new `@terminal /explain` slash command is available, which is optimized for explaining commands or errors. Without `/explain`, `@terminal` is optimized to suggest a fix. This slash command is used in the **Explain using Copilot** quick fix or the **Explain selection** actions.  \\n![Using the explain using copilot quick fix will ask copilot \"@terminal /explain #terminalLastCommand\"](images/1_88/copilot-terminal-explain.png)  \\n#### Preview: Terminal Inline Chat  \\nA preview of the terminal Inline Chat is available in this release, which gives convenient access to Copilot\\'s capabilities directly in the terminal.  \\nYou can enable terminal Inline Chat with the <code codesetting=\"terminal.integrated.experimentalInlineChat:true\">terminal.integrated.experimentalInlineChat</code> setting. To invoke the inline chat in a terminal, use the `kb(inlinechat.start)` keybinding.  \\n![Opening terminal inline chat will open and focus an input box similar to inline chat in the editor](images/1_88/copilot-terminal-inline.png)  \\nThe terminal Inline Chat uses the `@terminal` chat participant, which has context about the integrated terminal\\'s shell and its contents.  \\n![You can ask complex questions like \"list the top 5 largest files in the src directory\"](images/1_88/copilot-terminal-inline-query.png)  \\nOnce a command is suggested, use `kb(workbench.action.terminal.chat.runCommand)` to run the command in the terminal or `kb(workbench.action.terminal.chat.insertCommand)` to insert the command into the terminal. The command can also be edited directly in Copilot\\'s response before running it (currently `kbstyle(Ctrl+down)`, `kbstyle(Tab)`, `kbstyle(Tab)` on Windows & Linux, `kbstyle(Cmd+down)`, `kbstyle(Tab)`, `kbstyle(Tab)` on macOS).  \\n![Complex queries are OS and shell-specific](images/1_88/copilot-terminal-inline-answer.png)  \\n#### Clarity on authentication flow  \\nClarity around authentication is very important. We want to be clear about how we authenticate and what we ask for. If you open a private repository in VS Code, and we don\\'t have the right authentication for this scenario, we present an authentication dialog. The dialog has a description of why authentication is needed, and a **Learn more** button to find out more about these requirements.  \\n![Screenshot of a modal window that\\'s asking to authenticate with GitHub and that contains a Learn more button](images/1_88/learnmoreauth.png)  \\nThe **Learn more** button takes you to our [documentation on authentication requirements](https://github.com/microsoft/vscode-copilot-release/blob/a032cf75104a99ca745118ca51ea77219441a898/docs/copilot-repo-scope.md).  \\n#### Variable references  \\nThe **Used references** section in a chat response gives information about the context that is used. Previously, this section only showed context that was pulled in implicitly. Now, it also shows variables that you mentioned explicitly in the chat prompt, such as `#file` or `#editor`. If a variable is missing from the Used references, it might indicate that it was ignored because it\\'s too large for the context window of the language model.  \\n![Screenshot of a chat response, showing the \\'#file\\' variable in the Used references section](images/1_88/chat-variable-reference.png)  \\n#### Secondary chat submit actions  \\nIn the Chat view, the chat submit button now has a dropdown for easy access to more actions.  \\n* **Send to @workspace** submits your query to the `@workspace` chat participant, which is useful for questions about the contents of your workspace\\n* **Send to New Chat** starts a new empty chat, and then submits the query  \\n![Screenshot of the chat submit dropdown options](images/1_88/chat-submit-dropdown.png)  \\n#### Scope selection when using `Copilot: Explain This`  \\nWhen you use `/explain` without a selection in your active editor, and there are multiple scopes of interest, we\\'ve added support for prompting to clarify which symbol or block scope to explain.  \\n![Screenshot of the scope selection quick pick when the scope for /explain is unclear](images/1_88/copilot-scope-selection.png)  \\nThis behavior is currently opt-in, behind the <code codesetting=\"github.copilot.chat.scopeSelection\">github.copilot.chat.scopeSelection</code> setting.',\n",
       "  'url': 'https://code.visualstudio.com/updates/v1_88#_github-copilot',\n",
       "  'id': 3716},\n",
       " {'content': 'Learn what is new in the Visual Studio Code September 2024 Release (1.94)  \\n### Attach variables in notebook chat  \\nWhen you use Copilot in a notebook, you can now attach variables from the Jupyter kernel in your requests. Adding variables gives you more precise control over the context for your chat request, so that you get more relevant responses from Copilot.  \\nEither type `#`, followed by the variable name, or use the 📎 control (`kb(workbench.action.chat.attachContext)`) in Inline Chat to add a context variable.  \\n<video src=\"images/1_94/notebook-kernel-variable.mp4\" title=\"Attach a context variable by using `#` in a notebook chat request\" autoplay loop controls muted></video>',\n",
       "  'url': 'https://code.visualstudio.com/updates/v1_94#_attach-variables-in-notebook-chat',\n",
       "  'id': 3982},\n",
       " {'content': 'Learn what is new in the Visual Studio Code September 2024 Release (1.94)  \\n### Accept and run generated code in notebook  \\nWhen you use Copilot Inline Chat to generate code in a notebook, you can now accept and directly run the generated code from Inline Chat.  \\n<video src=\"images/1_94/notebook-accept-run.mp4\" title=\"Accept and run generated code directly from Inline Chat\" autoplay loop controls muted></video>',\n",
       "  'url': 'https://code.visualstudio.com/updates/v1_94#_accept-and-run-generated-code-in-notebook',\n",
       "  'id': 3981},\n",
       " {'content': 'Learn what is new in the Visual Studio Code June 2023 Release (1.80)  \\n### Chat audio cues  \\nThere are now audio cues for the [GitHub Copilot](https://marketplace.visualstudio.com/items?itemName=GitHub.copilot) chat experience and can be enabled via `audioCues.chatRequestSent`, `audioCues.chatResponsePending`, and `audioCues.chatResponseReceived`.',\n",
       "  'url': 'https://code.visualstudio.com/updates/v1_80#_chat-audio-cues',\n",
       "  'id': 3377},\n",
       " {'content': 'Learn what is new in the Visual Studio Code November 2023 Release (1.85)  \\n### Chat Agents  \\nAs mentioned in our recent blog post, [Pursuit of \"wicked smartness\" in VS Code](https://code.visualstudio.com/blogs/2023/11/13/vscode-copilot-smarter#_extensibility), we are developing a model for extensions to contribute chat agents to the Copilot Chat view. The chat agent API is proposed, but you can experiment with adding your own chat agent now. Subscribe to [issue #199908](https://github.com/microsoft/vscode/issues/199908) for updates.',\n",
       "  'url': 'https://code.visualstudio.com/updates/v1_85#_chat-agents',\n",
       "  'id': 3592},\n",
       " {'content': 'Learn what is new in the Visual Studio Code May 2024 Release (1.90)  \\n## Contributions to extensions  \\n### GitHub Copilot  \\n#### Attach context to chat  \\nTo make your chat prompts more specific, you can add context to your chat messages. You can now attach more types of context to a chat message, such as workspace symbols. Previously, you used the \\'#\\' symbol to reference a file, or the current selection. Now, you can attach context  to a chat message by selecting the 📎 icon in the Chat view input field, or by typing `kb(workbench.action.chat.attachContext)`.  \\n> **Tip**: Use the right arrow key to quickly attach context in the background while you keep the context picker open. When you\\'re in the editor, you can also right-click on a selection and choose **Copilot > Add Selection to Chat**.  \\n<video src=\"images/1_90/chat-context-attachments.mp4\" title=\"Attach context to chat\" autoplay loop controls muted></video>  \\n#### Ask questions using Bing search and enterprise knowledge bases  \\n[GitHub Copilot Enterprise](https://docs.github.com/en/enterprise-cloud@latest/copilot/github-copilot-enterprise/overview/about-github-copilot-enterprise) users in VS Code can now ask questions that are enriched with context from web results and your enterprise\\'s [knowledge bases](https://docs.github.com/en/enterprise-cloud@latest/copilot/github-copilot-enterprise/copilot-chat-in-github/managing-copilot-knowledge-bases). To try out this functionality, install the latest pre-release of Copilot Chat.  \\nIn the Chat view, you can ask questions like `@github What is the latest LTS of Node.js? #web` to take advantage of web search. Any search results referenced by Copilot are displayed in the `Used References` section of the chat response.  \\n![Web search results in Copilot Chat](images/1_90/copilot-enterprise-bing-search.png)  \\nYou can also ask questions about your enterprise\\'s knowledge bases, which are collections of Markdown repositories containing documentation, directly from VS Code. Simply type `@github #kb` to pick from the knowledge bases available to you. Similarly, any knowledge base snippets referenced by Copilot are displayed in the `Used References` section of the chat response.  \\nThis enables Copilot Enterprise users to combine search results and internal documentation with editor context by using existing chat variables, such as `#file` and `#selection`. Please try it out and share your feedback with us at https://github.com/microsoft/vscode-copilot-release!  \\n#### IntelliSense in chat code blocks  \\nWe now support basic IntelliSense within Copilot-generated code blocks. This lets you use many of the same IntelliSense tools that you might already use in the editor and can help you better understand the generated code.  \\n![Hover IntelliSense in Copilot chat code block](images/1_90/copilot-hover-intellisense.png)  \\nThe supported IntelliSense features include:  \\n- Go to definition by using `kbstyle(ctrl)` `kbstyle(click)` / `kbstyle(cmd)` `kbstyle(click)` or `kb(editor.action.revealDefinition)`\\n- Hovers\\n- Go to implementation\\n- Go to type definition  \\nIntelliSense can even be used with `@workspace` to learn about any workspace symbols that are used in Copilot responses.  \\n<video src=\"images/1_90/copilot-workspace-intellisense.mp4\" title=\"IntelliSense on a @workspace code block\" autoplay loop controls muted></video>  \\nIntelliSense for TypeScript, JavaScript, HTML, and CSS code blocks is available out of the box. For additional language support, try installing an extension for that language, although not every language extension already has support for code block IntelliSense. Please file feature requests for any languages that aren\\'t yet supporting this.  \\n#### Improved links in chat responses  \\nWe improved chat responses by adding links for file names and symbols. By selecting these links, you can navigate to the corresponding file or symbol in the editor.  \\n![Clickable links for symbols used with /explain](images/1_90/copilot-link-explain.png)  \\n![Clickable file and symbol links for an @workspace question](images/1_90/copilot-link-workspace.png)  \\n#### Roam active chat between inline chat and Chat view  \\nYou can now move a chat request that is completed or still active from inline chat to the Chat view. You might use this feature to clean up inline chat and move conversations to a more persistent place. To move a request, select the chat icon next to the chat input box.  \\n![Move a chat conversation from inline chat to the Chat view](images/1_90/move-chat-conversation-to-chat-view.png)  \\n#### Automatic rename suggestions  \\nIf you use the [Copilot Chat](https://marketplace.visualstudio.com/items?itemName=GitHub.copilot-chat) extension, the Copilot-powered rename suggestions are now triggered automatically when you rename a symbol. You can turn this feature off by using the setting <code codesetting=\"github.copilot.renameSuggestions.triggerAutomatically\">github.copilot.renameSuggestions.triggerAutomatically</code>.  \\n<video src=\"images/1_90/rename-suggestions.mp4\" title=\"Automatically-triggered rename suggestions\" autoplay loop controls muted></video>',\n",
       "  'url': 'https://code.visualstudio.com/updates/v1_90#_github-copilot',\n",
       "  'id': 3847},\n",
       " {'content': 'Learn what is new in the Visual Studio Code August 2024 Release (1.93)  \\n### Automatic chat participant detection in Chat view (Experimental)  \\n**Setting**: <a href=\"vscode://settings/chat.experimental.detectParticipant.enabled\" codesetting=\"true\">`chat.experimental.detectParticipant.enabled`</a>  \\nGitHub Copilot has several built-in chat participants, such as `@workspace`, which also contribute commands to the Chat view. Previously, you had to explicitly specify the chat participant and command in a chat prompt.  \\nTo make it easier to use chat participants with natural language, in the coming weeks, we\\'re experimenting with enabling Copilot Chat to automatically route your question to a suitable participant or chat command.  \\n![Screenshot of Chat view that shows how the \\'@workspace\\' participant is automatically detected.](images/1_93/participant-detection.png)  \\nIf the automatically selected participant is not appropriate for your question, you can select the **rerun without** link at the top of the chat response to resend your question to Copilot.',\n",
       "  'url': 'https://code.visualstudio.com/updates/v1_93#_automatic-chat-participant-detection-in-chat-view-experimental',\n",
       "  'id': 3942},\n",
       " {'content': 'Learn what is new in the Visual Studio Code September 2024 Release (1.94)  \\n### Public code matching in chat  \\nYou can allow GitHub Copilot to return code that could match publicly available code on GitHub.com. When this functionality is enabled for your [organization subscription](https://docs.github.com/en/copilot/managing-copilot/managing-github-copilot-in-your-organization/setting-policies-for-copilot-in-your-organization/managing-policies-for-copilot-in-your-organization#policies-for-suggestion-matching) or [personal subscription](https://docs.github.com/en/copilot/managing-copilot/managing-copilot-as-an-individual-subscriber/managing-copilot-policies-as-an-individual-subscriber#enabling-or-disabling-suggestions-matching-public-code), Copilot code completions already provided you with details about the matches that were detected. We now show you these matches for public code in Copilot Chat as well.  \\nIf this is enabled for your organization or subscription, you might see a message at the end of the response with a **View matches** link. If you select the link, an editor opens that shows you the details of the matching code references with more details.  \\n![Chat code referencing example.](images/1_94/code-references.png)  \\nGet more information about [code referencing in GitHub Copilot](https://github.blog/news-insights/product-news/code-referencing-now-generally-available-in-github-copilot-and-with-microsoft-azure-ai/) on the GitHub Blog.',\n",
       "  'url': 'https://code.visualstudio.com/updates/v1_94#_public-code-matching-in-chat',\n",
       "  'id': 3975},\n",
       " {'content': 'Learn what is new in the Visual Studio Code September 2024 Release (1.94)  \\n### Start debugging from Chat (Experimental)  \\n**Setting**: `setting(github.copilot.chat.experimental.startDebugging.enabled)`  \\nIn this milestone, we made improvements to the experimental `/startDebugging` slash command. This command enables you to easily find or create a launch configuration and start [debugging](https://code.visualstudio.com/docs/editor/debugging) your application seamlessly. When you use `@vscode` in Copilot Chat, `/startDebugging` is now available by default.  \\n![A user types /startDebugging flask app port 3000 in the panel chat and is provided with the launch configuration.](images/1_94/start-debugging.png)',\n",
       "  'url': 'https://code.visualstudio.com/updates/v1_94#_start-debugging-from-chat-experimental',\n",
       "  'id': 3987}]"
      ]
     },
     "execution_count": 41,
     "metadata": {},
     "output_type": "execute_result"
    }
   ],
   "source": [
    "full_text_retrieved_docs = full_text_search(q)\n",
    "full_text_retrieved_docs"
   ]
  },
  {
   "cell_type": "markdown",
   "metadata": {},
   "source": [
    "### Vector similarity search\n",
    "\n",
    "Now let's conduct a vector similarity search using FAISS. We'll first copy over getting started code for using  embeddings models from [GitHub Marketplace](https://github.com/marketplace/models).\n",
    "\n",
    "This is especially convenient with our workflow, because **GitHub token is automatically injected into Codespaces**."
   ]
  },
  {
   "cell_type": "code",
   "execution_count": 50,
   "metadata": {},
   "outputs": [],
   "source": [
    "import os\n",
    "\n",
    "from azure.ai.inference import EmbeddingsClient\n",
    "from azure.core.credentials import AzureKeyCredential\n",
    "\n",
    "endpoint = \"https://models.inference.ai.azure.com\"\n",
    "\n",
    "embeddings_client = EmbeddingsClient(\n",
    "    endpoint=endpoint,\n",
    "    credential=AzureKeyCredential(os.environ[\"GITHUB_TOKEN\"])\n",
    "    # credential=AzureKeyCredential(os.environ[\"AZURE_TOKEN\"])\n",
    ")\n",
    "\n",
    "def generate_embeddings(text, model=\"text-embedding-3-small\"):\n",
    "    response = embeddings_client.embed(\n",
    "        input=[text],\n",
    "        model=model\n",
    "    )\n",
    "\n",
    "    return response.data[0].embedding"
   ]
  },
  {
   "cell_type": "markdown",
   "metadata": {},
   "source": [
    "> **Copilot (comment in code cell generates code):** `# Create a function to conduct vector similarity search using FAISS.`"
   ]
  },
  {
   "cell_type": "code",
   "execution_count": 45,
   "metadata": {},
   "outputs": [],
   "source": [
    "import faiss\n",
    "import numpy as np\n",
    "\n",
    "def faiss_search(query_embedding, doc_embeddings, top_k=3):\n",
    "    # Convert document embeddings into a numpy array\n",
    "    embeddings_matrix = np.array(doc_embeddings)\n",
    "    \n",
    "    # Build FAISS index\n",
    "    dim = embeddings_matrix.shape[1]\n",
    "    index = faiss.IndexFlatL2(dim)  # Using L2 (Euclidean) distance\n",
    "    index.add(embeddings_matrix)\n",
    "\n",
    "    # Perform the search with FAISS\n",
    "    _, indices = index.search(np.array([query_embedding]), top_k)\n",
    "\n",
    "    return indices.flatten()"
   ]
  },
  {
   "cell_type": "markdown",
   "metadata": {},
   "source": [
    "Let's create a function to retrieve most relevant documents using our modified hybrid search.\n",
    "\n",
    "<!-- > **Copilot (✨ generate):** `Create a function to retrieve relevant documents. Given a query and documents, first conduct full_text_search. Then, generate embeddings using the generate_embeddings function over the result of the full_text_search. Lastly, conduct faiss_search using those embeddings and the embeddings of the query and output a list of documents.` -->"
   ]
  },
  {
   "cell_type": "code",
   "execution_count": 43,
   "metadata": {},
   "outputs": [],
   "source": [
    "def retrieve_and_embed_docs(query, documents=release_notes, embeddings_model=\"text-embedding-3-small\", top_k=3):\n",
    "    full_text_results = full_text_search(query) # full text search using TF-IDF & meilisearch\n",
    "\n",
    "    # extract relevant document embeddings from meilisearch results\n",
    "    relevant_texts = []\n",
    "    doc_embeddings = []\n",
    "    urls = []\n",
    "    for hit in full_text_results:\n",
    "        doc_id = hit['id']\n",
    "        doc = next((item for item in documents if item.get('id') == doc_id), None)\n",
    "        if 'content' in doc:\n",
    "            relevant_texts.append(doc['content'])\n",
    "            content_embeddings = generate_embeddings(doc['content'], model=embeddings_model)\n",
    "            doc_embeddings.append(content_embeddings)\n",
    "            urls.append(doc['url'])\n",
    "    \n",
    "    # vector search using FAISS\n",
    "    query_embedding = generate_embeddings(query, model=embeddings_model)\n",
    "    faiss_indices = faiss_search(query_embedding, doc_embeddings, top_k)\n",
    "    \n",
    "    # combine results\n",
    "    combined_results = []\n",
    "    for i in faiss_indices:\n",
    "        combined_results.append({\n",
    "            \"content\": relevant_texts[i],\n",
    "            \"url\": urls[i]\n",
    "        })\n",
    "\n",
    "    return combined_results"
   ]
  },
  {
   "cell_type": "code",
   "execution_count": 52,
   "metadata": {},
   "outputs": [
    {
     "data": {
      "text/plain": [
       "[{'content': 'Learn what is new in the Visual Studio Code September 2024 Release (1.94)  \\n### Attach variables in notebook chat  \\nWhen you use Copilot in a notebook, you can now attach variables from the Jupyter kernel in your requests. Adding variables gives you more precise control over the context for your chat request, so that you get more relevant responses from Copilot.  \\nEither type `#`, followed by the variable name, or use the 📎 control (`kb(workbench.action.chat.attachContext)`) in Inline Chat to add a context variable.  \\n<video src=\"images/1_94/notebook-kernel-variable.mp4\" title=\"Attach a context variable by using `#` in a notebook chat request\" autoplay loop controls muted></video>',\n",
       "  'url': 'https://code.visualstudio.com/updates/v1_94#_attach-variables-in-notebook-chat'},\n",
       " {'content': 'Learn what is new in the Visual Studio Code March 2024 Release (1.88)  \\n### GitHub Copilot  \\n#### Inline Chat improvements  \\nInline Chat now starts as a floating control, making it more lightweight. After the first request, the control expands to take up more space. We have also adjusted the rendering to be more consistent with other chat experiences, such as the Chat view or Quick Chat.  \\n![Inline Chat As Content Widget floating over the editor text](./images/1_88/inline-chat-content.png)\\n_Theme: [GitHub Light Colorblind (Beta)](https://marketplace.visualstudio.com/items?itemName=GitHub.github-vscode-theme)_  \\nWe\\'ve repositioned the rerun and feedback controls, and made the toggle control for viewing diffs more prominent alongside the Accept and Discard buttons.  \\n![Screenshot of the Copilot Inline Chat, showing the repositioned controls.](./images/1_88/inline-chat-convo.png)\\n_Theme: [GitHub Light Colorblind (Beta)](https://marketplace.visualstudio.com/items?itemName=GitHub.github-vscode-theme)_  \\n#### Notebook kernel state as context  \\nWhen you are in a notebook, the kernel state (for example, variables and available packages) is now automatically included as context in Inline Chat. This lets Copilot use the current state of the notebook to provide more relevant completions.  \\n<video src=\"images/1_88/notebook-kernel-context.mp4\" title=\"Notebook emebeds kernel state in context\" autoplay loop controls muted></video>  \\n_Theme: [GitHub Dark](https://marketplace.visualstudio.com/items?itemName=GitHub.github-vscode-theme)_  \\n#### Commit message generation improvements  \\nTo improve the quality of the generated commit messages, we are now also including the commit messages of the 10 most recent commits in the repository, and the commit messages of the 10 most recent commits of the current user as extra context.  \\n#### Workspace creation improvements  \\nThe `@workspace /new` command now offers sample projects, curated from GitHub repositories, as suggestions when a suitable match is detected for the chat prompt.  \\n![Chat view with @workspace /new that provides a link to a sample project](images/1_88/new-workspace-project-templates.png)  \\nThe `@workspace /new` command has also been enhanced to more effectively manage context and history. This enables you to refine suggested workspaces structure and file contents by asking follow-up queries. For example, \"use TypeScript instead of JavaScript\" or \"also add bootstrap\".  \\n#### @terminal /explain slash command  \\nA new `@terminal /explain` slash command is available, which is optimized for explaining commands or errors. Without `/explain`, `@terminal` is optimized to suggest a fix. This slash command is used in the **Explain using Copilot** quick fix or the **Explain selection** actions.  \\n![Using the explain using copilot quick fix will ask copilot \"@terminal /explain #terminalLastCommand\"](images/1_88/copilot-terminal-explain.png)  \\n#### Preview: Terminal Inline Chat  \\nA preview of the terminal Inline Chat is available in this release, which gives convenient access to Copilot\\'s capabilities directly in the terminal.  \\nYou can enable terminal Inline Chat with the <code codesetting=\"terminal.integrated.experimentalInlineChat:true\">terminal.integrated.experimentalInlineChat</code> setting. To invoke the inline chat in a terminal, use the `kb(inlinechat.start)` keybinding.  \\n![Opening terminal inline chat will open and focus an input box similar to inline chat in the editor](images/1_88/copilot-terminal-inline.png)  \\nThe terminal Inline Chat uses the `@terminal` chat participant, which has context about the integrated terminal\\'s shell and its contents.  \\n![You can ask complex questions like \"list the top 5 largest files in the src directory\"](images/1_88/copilot-terminal-inline-query.png)  \\nOnce a command is suggested, use `kb(workbench.action.terminal.chat.runCommand)` to run the command in the terminal or `kb(workbench.action.terminal.chat.insertCommand)` to insert the command into the terminal. The command can also be edited directly in Copilot\\'s response before running it (currently `kbstyle(Ctrl+down)`, `kbstyle(Tab)`, `kbstyle(Tab)` on Windows & Linux, `kbstyle(Cmd+down)`, `kbstyle(Tab)`, `kbstyle(Tab)` on macOS).  \\n![Complex queries are OS and shell-specific](images/1_88/copilot-terminal-inline-answer.png)  \\n#### Clarity on authentication flow  \\nClarity around authentication is very important. We want to be clear about how we authenticate and what we ask for. If you open a private repository in VS Code, and we don\\'t have the right authentication for this scenario, we present an authentication dialog. The dialog has a description of why authentication is needed, and a **Learn more** button to find out more about these requirements.  \\n![Screenshot of a modal window that\\'s asking to authenticate with GitHub and that contains a Learn more button](images/1_88/learnmoreauth.png)  \\nThe **Learn more** button takes you to our [documentation on authentication requirements](https://github.com/microsoft/vscode-copilot-release/blob/a032cf75104a99ca745118ca51ea77219441a898/docs/copilot-repo-scope.md).  \\n#### Variable references  \\nThe **Used references** section in a chat response gives information about the context that is used. Previously, this section only showed context that was pulled in implicitly. Now, it also shows variables that you mentioned explicitly in the chat prompt, such as `#file` or `#editor`. If a variable is missing from the Used references, it might indicate that it was ignored because it\\'s too large for the context window of the language model.  \\n![Screenshot of a chat response, showing the \\'#file\\' variable in the Used references section](images/1_88/chat-variable-reference.png)  \\n#### Secondary chat submit actions  \\nIn the Chat view, the chat submit button now has a dropdown for easy access to more actions.  \\n* **Send to @workspace** submits your query to the `@workspace` chat participant, which is useful for questions about the contents of your workspace\\n* **Send to New Chat** starts a new empty chat, and then submits the query  \\n![Screenshot of the chat submit dropdown options](images/1_88/chat-submit-dropdown.png)  \\n#### Scope selection when using `Copilot: Explain This`  \\nWhen you use `/explain` without a selection in your active editor, and there are multiple scopes of interest, we\\'ve added support for prompting to clarify which symbol or block scope to explain.  \\n![Screenshot of the scope selection quick pick when the scope for /explain is unclear](images/1_88/copilot-scope-selection.png)  \\nThis behavior is currently opt-in, behind the <code codesetting=\"github.copilot.chat.scopeSelection\">github.copilot.chat.scopeSelection</code> setting.',\n",
       "  'url': 'https://code.visualstudio.com/updates/v1_88#_github-copilot'},\n",
       " {'content': 'Learn what is new in the Visual Studio Code May 2024 Release (1.90)  \\n## Contributions to extensions  \\n### GitHub Copilot  \\n#### Attach context to chat  \\nTo make your chat prompts more specific, you can add context to your chat messages. You can now attach more types of context to a chat message, such as workspace symbols. Previously, you used the \\'#\\' symbol to reference a file, or the current selection. Now, you can attach context  to a chat message by selecting the 📎 icon in the Chat view input field, or by typing `kb(workbench.action.chat.attachContext)`.  \\n> **Tip**: Use the right arrow key to quickly attach context in the background while you keep the context picker open. When you\\'re in the editor, you can also right-click on a selection and choose **Copilot > Add Selection to Chat**.  \\n<video src=\"images/1_90/chat-context-attachments.mp4\" title=\"Attach context to chat\" autoplay loop controls muted></video>  \\n#### Ask questions using Bing search and enterprise knowledge bases  \\n[GitHub Copilot Enterprise](https://docs.github.com/en/enterprise-cloud@latest/copilot/github-copilot-enterprise/overview/about-github-copilot-enterprise) users in VS Code can now ask questions that are enriched with context from web results and your enterprise\\'s [knowledge bases](https://docs.github.com/en/enterprise-cloud@latest/copilot/github-copilot-enterprise/copilot-chat-in-github/managing-copilot-knowledge-bases). To try out this functionality, install the latest pre-release of Copilot Chat.  \\nIn the Chat view, you can ask questions like `@github What is the latest LTS of Node.js? #web` to take advantage of web search. Any search results referenced by Copilot are displayed in the `Used References` section of the chat response.  \\n![Web search results in Copilot Chat](images/1_90/copilot-enterprise-bing-search.png)  \\nYou can also ask questions about your enterprise\\'s knowledge bases, which are collections of Markdown repositories containing documentation, directly from VS Code. Simply type `@github #kb` to pick from the knowledge bases available to you. Similarly, any knowledge base snippets referenced by Copilot are displayed in the `Used References` section of the chat response.  \\nThis enables Copilot Enterprise users to combine search results and internal documentation with editor context by using existing chat variables, such as `#file` and `#selection`. Please try it out and share your feedback with us at https://github.com/microsoft/vscode-copilot-release!  \\n#### IntelliSense in chat code blocks  \\nWe now support basic IntelliSense within Copilot-generated code blocks. This lets you use many of the same IntelliSense tools that you might already use in the editor and can help you better understand the generated code.  \\n![Hover IntelliSense in Copilot chat code block](images/1_90/copilot-hover-intellisense.png)  \\nThe supported IntelliSense features include:  \\n- Go to definition by using `kbstyle(ctrl)` `kbstyle(click)` / `kbstyle(cmd)` `kbstyle(click)` or `kb(editor.action.revealDefinition)`\\n- Hovers\\n- Go to implementation\\n- Go to type definition  \\nIntelliSense can even be used with `@workspace` to learn about any workspace symbols that are used in Copilot responses.  \\n<video src=\"images/1_90/copilot-workspace-intellisense.mp4\" title=\"IntelliSense on a @workspace code block\" autoplay loop controls muted></video>  \\nIntelliSense for TypeScript, JavaScript, HTML, and CSS code blocks is available out of the box. For additional language support, try installing an extension for that language, although not every language extension already has support for code block IntelliSense. Please file feature requests for any languages that aren\\'t yet supporting this.  \\n#### Improved links in chat responses  \\nWe improved chat responses by adding links for file names and symbols. By selecting these links, you can navigate to the corresponding file or symbol in the editor.  \\n![Clickable links for symbols used with /explain](images/1_90/copilot-link-explain.png)  \\n![Clickable file and symbol links for an @workspace question](images/1_90/copilot-link-workspace.png)  \\n#### Roam active chat between inline chat and Chat view  \\nYou can now move a chat request that is completed or still active from inline chat to the Chat view. You might use this feature to clean up inline chat and move conversations to a more persistent place. To move a request, select the chat icon next to the chat input box.  \\n![Move a chat conversation from inline chat to the Chat view](images/1_90/move-chat-conversation-to-chat-view.png)  \\n#### Automatic rename suggestions  \\nIf you use the [Copilot Chat](https://marketplace.visualstudio.com/items?itemName=GitHub.copilot-chat) extension, the Copilot-powered rename suggestions are now triggered automatically when you rename a symbol. You can turn this feature off by using the setting <code codesetting=\"github.copilot.renameSuggestions.triggerAutomatically\">github.copilot.renameSuggestions.triggerAutomatically</code>.  \\n<video src=\"images/1_90/rename-suggestions.mp4\" title=\"Automatically-triggered rename suggestions\" autoplay loop controls muted></video>',\n",
       "  'url': 'https://code.visualstudio.com/updates/v1_90#_github-copilot'}]"
      ]
     },
     "execution_count": 52,
     "metadata": {},
     "output_type": "execute_result"
    }
   ],
   "source": [
    "retrieved_docs = retrieve_and_embed_docs(q)\n",
    "retrieved_docs"
   ]
  },
  {
   "cell_type": "markdown",
   "metadata": {},
   "source": [
    "### Compare between embeddings models\n",
    "\n",
    "Let's test with a different embeddings model to see if we get different results."
   ]
  },
  {
   "cell_type": "code",
   "execution_count": 51,
   "metadata": {},
   "outputs": [
    {
     "data": {
      "text/plain": [
       "[{'content': 'Learn what is new in the Visual Studio Code June 2023 Release (1.80)  \\n### Chat audio cues  \\nThere are now audio cues for the [GitHub Copilot](https://marketplace.visualstudio.com/items?itemName=GitHub.copilot) chat experience and can be enabled via `audioCues.chatRequestSent`, `audioCues.chatResponsePending`, and `audioCues.chatResponseReceived`.',\n",
       "  'url': 'https://code.visualstudio.com/updates/v1_80#_chat-audio-cues'},\n",
       " {'content': 'Learn what is new in the Visual Studio Code September 2024 Release (1.94)  \\n### Accept and run generated code in notebook  \\nWhen you use Copilot Inline Chat to generate code in a notebook, you can now accept and directly run the generated code from Inline Chat.  \\n<video src=\"images/1_94/notebook-accept-run.mp4\" title=\"Accept and run generated code directly from Inline Chat\" autoplay loop controls muted></video>',\n",
       "  'url': 'https://code.visualstudio.com/updates/v1_94#_accept-and-run-generated-code-in-notebook'},\n",
       " {'content': 'Learn what is new in the Visual Studio Code March 2024 Release (1.88)  \\n### GitHub Copilot  \\n#### Inline Chat improvements  \\nInline Chat now starts as a floating control, making it more lightweight. After the first request, the control expands to take up more space. We have also adjusted the rendering to be more consistent with other chat experiences, such as the Chat view or Quick Chat.  \\n![Inline Chat As Content Widget floating over the editor text](./images/1_88/inline-chat-content.png)\\n_Theme: [GitHub Light Colorblind (Beta)](https://marketplace.visualstudio.com/items?itemName=GitHub.github-vscode-theme)_  \\nWe\\'ve repositioned the rerun and feedback controls, and made the toggle control for viewing diffs more prominent alongside the Accept and Discard buttons.  \\n![Screenshot of the Copilot Inline Chat, showing the repositioned controls.](./images/1_88/inline-chat-convo.png)\\n_Theme: [GitHub Light Colorblind (Beta)](https://marketplace.visualstudio.com/items?itemName=GitHub.github-vscode-theme)_  \\n#### Notebook kernel state as context  \\nWhen you are in a notebook, the kernel state (for example, variables and available packages) is now automatically included as context in Inline Chat. This lets Copilot use the current state of the notebook to provide more relevant completions.  \\n<video src=\"images/1_88/notebook-kernel-context.mp4\" title=\"Notebook emebeds kernel state in context\" autoplay loop controls muted></video>  \\n_Theme: [GitHub Dark](https://marketplace.visualstudio.com/items?itemName=GitHub.github-vscode-theme)_  \\n#### Commit message generation improvements  \\nTo improve the quality of the generated commit messages, we are now also including the commit messages of the 10 most recent commits in the repository, and the commit messages of the 10 most recent commits of the current user as extra context.  \\n#### Workspace creation improvements  \\nThe `@workspace /new` command now offers sample projects, curated from GitHub repositories, as suggestions when a suitable match is detected for the chat prompt.  \\n![Chat view with @workspace /new that provides a link to a sample project](images/1_88/new-workspace-project-templates.png)  \\nThe `@workspace /new` command has also been enhanced to more effectively manage context and history. This enables you to refine suggested workspaces structure and file contents by asking follow-up queries. For example, \"use TypeScript instead of JavaScript\" or \"also add bootstrap\".  \\n#### @terminal /explain slash command  \\nA new `@terminal /explain` slash command is available, which is optimized for explaining commands or errors. Without `/explain`, `@terminal` is optimized to suggest a fix. This slash command is used in the **Explain using Copilot** quick fix or the **Explain selection** actions.  \\n![Using the explain using copilot quick fix will ask copilot \"@terminal /explain #terminalLastCommand\"](images/1_88/copilot-terminal-explain.png)  \\n#### Preview: Terminal Inline Chat  \\nA preview of the terminal Inline Chat is available in this release, which gives convenient access to Copilot\\'s capabilities directly in the terminal.  \\nYou can enable terminal Inline Chat with the <code codesetting=\"terminal.integrated.experimentalInlineChat:true\">terminal.integrated.experimentalInlineChat</code> setting. To invoke the inline chat in a terminal, use the `kb(inlinechat.start)` keybinding.  \\n![Opening terminal inline chat will open and focus an input box similar to inline chat in the editor](images/1_88/copilot-terminal-inline.png)  \\nThe terminal Inline Chat uses the `@terminal` chat participant, which has context about the integrated terminal\\'s shell and its contents.  \\n![You can ask complex questions like \"list the top 5 largest files in the src directory\"](images/1_88/copilot-terminal-inline-query.png)  \\nOnce a command is suggested, use `kb(workbench.action.terminal.chat.runCommand)` to run the command in the terminal or `kb(workbench.action.terminal.chat.insertCommand)` to insert the command into the terminal. The command can also be edited directly in Copilot\\'s response before running it (currently `kbstyle(Ctrl+down)`, `kbstyle(Tab)`, `kbstyle(Tab)` on Windows & Linux, `kbstyle(Cmd+down)`, `kbstyle(Tab)`, `kbstyle(Tab)` on macOS).  \\n![Complex queries are OS and shell-specific](images/1_88/copilot-terminal-inline-answer.png)  \\n#### Clarity on authentication flow  \\nClarity around authentication is very important. We want to be clear about how we authenticate and what we ask for. If you open a private repository in VS Code, and we don\\'t have the right authentication for this scenario, we present an authentication dialog. The dialog has a description of why authentication is needed, and a **Learn more** button to find out more about these requirements.  \\n![Screenshot of a modal window that\\'s asking to authenticate with GitHub and that contains a Learn more button](images/1_88/learnmoreauth.png)  \\nThe **Learn more** button takes you to our [documentation on authentication requirements](https://github.com/microsoft/vscode-copilot-release/blob/a032cf75104a99ca745118ca51ea77219441a898/docs/copilot-repo-scope.md).  \\n#### Variable references  \\nThe **Used references** section in a chat response gives information about the context that is used. Previously, this section only showed context that was pulled in implicitly. Now, it also shows variables that you mentioned explicitly in the chat prompt, such as `#file` or `#editor`. If a variable is missing from the Used references, it might indicate that it was ignored because it\\'s too large for the context window of the language model.  \\n![Screenshot of a chat response, showing the \\'#file\\' variable in the Used references section](images/1_88/chat-variable-reference.png)  \\n#### Secondary chat submit actions  \\nIn the Chat view, the chat submit button now has a dropdown for easy access to more actions.  \\n* **Send to @workspace** submits your query to the `@workspace` chat participant, which is useful for questions about the contents of your workspace\\n* **Send to New Chat** starts a new empty chat, and then submits the query  \\n![Screenshot of the chat submit dropdown options](images/1_88/chat-submit-dropdown.png)  \\n#### Scope selection when using `Copilot: Explain This`  \\nWhen you use `/explain` without a selection in your active editor, and there are multiple scopes of interest, we\\'ve added support for prompting to clarify which symbol or block scope to explain.  \\n![Screenshot of the scope selection quick pick when the scope for /explain is unclear](images/1_88/copilot-scope-selection.png)  \\nThis behavior is currently opt-in, behind the <code codesetting=\"github.copilot.chat.scopeSelection\">github.copilot.chat.scopeSelection</code> setting.',\n",
       "  'url': 'https://code.visualstudio.com/updates/v1_88#_github-copilot'}]"
      ]
     },
     "execution_count": 51,
     "metadata": {},
     "output_type": "execute_result"
    }
   ],
   "source": [
    "retrieve_and_embed_docs(q, embeddings_model=\"cohere-embed-v3-english\")"
   ]
  },
  {
   "cell_type": "markdown",
   "metadata": {},
   "source": [
    "## 🧠 Generate answer"
   ]
  },
  {
   "cell_type": "markdown",
   "metadata": {},
   "source": [
    "I think we're ready to try out our RAG system! Remember the answer to our question, `\"What are recent features for Copilot chat in notebooks?\"` using an LLM model straight out of the box? You can also experiment with it here just as you did in the Marketplace playground."
   ]
  },
  {
   "cell_type": "code",
   "execution_count": null,
   "metadata": {},
   "outputs": [],
   "source": [
    "# Copy the code snippet from GH marketplace\n",
    "from openai import OpenAI\n",
    "import os\n",
    "\n",
    "gpt_client = OpenAI(\n",
    "    base_url=\"https://models.inference.ai.azure.com\",\n",
    "    api_key=os.getenv(\"GITHUB_TOKEN\")\n",
    "    # api_key=os.getenv(\"AZURE_TOKEN\")\n",
    ")    \n",
    "\n",
    "system_message = \"\"\"\n",
    "You are a social assistant who writes creative content. You will politely decline any other requests from the user not related to creating content. Don't talk about a single VS Code release and don't talk about release dates at all. Instead, only talk about the relevant features. Don't include made up links, but do provide real links to the VS Code release notes for specific features. You format all your responses as Markdown unless otherwise specified. Avoid wrapping your entire response in a markdown code element.\n",
    "\"\"\""
   ]
  },
  {
   "cell_type": "code",
   "execution_count": 20,
   "metadata": {},
   "outputs": [
    {
     "name": "stdout",
     "output_type": "stream",
     "text": [
      "🚀 Exciting updates for Copilot Chat in notebooks! Now you can enjoy enhanced code suggestions, improved context awareness, and seamless integration for a smoother coding experience. Check out the latest features here: [VS Code Release Notes](https://code.visualstudio.com/updates) #VSCode #CopilotChat\n"
     ]
    }
   ],
   "source": [
    "messages = [\n",
    "    {\"role\": \"system\", \"content\": system_message},\n",
    "    {\"role\": \"user\", \"content\": f\"Create a tweet sized content to answer the following question: {q}\"}\n",
    "]\n",
    "\n",
    "response = gpt_client.chat.completions.create(\n",
    "    model=\"gpt-4o-mini\",\n",
    "    messages=messages,\n",
    "    temperature=0.3,\n",
    "    max_tokens=1500, # Dynamically set max_tokens based on the combined length of the docs?\n",
    "    top_p=1.0\n",
    ")\n",
    "\n",
    "print(response.choices[0].message.content)"
   ]
  },
  {
   "cell_type": "markdown",
   "metadata": {},
   "source": [
    "Now let's give it the context we got from the retrieved documents and generate the answer again."
   ]
  },
  {
   "cell_type": "code",
   "execution_count": 22,
   "metadata": {},
   "outputs": [],
   "source": [
    "def generate_llm_answer(question, context, completion_model=\"gpt-4o-mini\"):\n",
    "    # Combine the relevant documents into a single context\n",
    "    context_text = \" \".join([doc['content'] for doc in context if doc.get('content')])\n",
    "    context_url = \", \".join([doc['url'] for doc in context if doc.get('url')])\n",
    "\n",
    "    messages = [\n",
    "        {\"role\": \"system\", \"content\": system_message},\n",
    "        {\"role\": \"user\", \"content\": f\"Create a tweet sized content on the following context: {context_text}. In your answer, always include the following URLs from the content sources: {context_url}. Question: {question}\"}\n",
    "    ]\n",
    "    \n",
    "    response = gpt_client.chat.completions.create(\n",
    "        model=completion_model,\n",
    "        messages=messages,\n",
    "        temperature=0.3,\n",
    "        max_tokens=1500, # Dynamically set max_tokens based on the combined length of the docs?\n",
    "        top_p=1.0\n",
    "    )\n",
    "\n",
    "    answer = response.choices[0].message.content\n",
    "    return answer"
   ]
  },
  {
   "cell_type": "code",
   "execution_count": 101,
   "metadata": {},
   "outputs": [
    {
     "name": "stdout",
     "output_type": "stream",
     "text": [
      "🚀 Exciting updates in VS Code! Now you can attach variables in notebook chats with Copilot for more precise context. Just type `#` followed by the variable name or use the 📎 control! 🎉 Check it out: [Attach Variables](https://code.visualstudio.com/updates/v1_94#_attach-variables-in-notebook-chat) #VSCode #GitHubCopilot\n",
      "\n",
      "For more on Copilot features, explore:  \n",
      "- [March 2024 Release](https://code.visualstudio.com/updates/v1_88#_github-copilot)  \n",
      "- [May 2024 Release](https://code.visualstudio.com/updates/v1_90#_github-copilot)\n"
     ]
    }
   ],
   "source": [
    "final_answer = generate_llm_answer(q, retrieved_docs)\n",
    "print(final_answer)"
   ]
  },
  {
   "cell_type": "markdown",
   "metadata": {},
   "source": [
    "### Compare between completions models\n",
    "\n",
    "Let's test with a different completions models to compare the different responses we get from our query (we'll keep the search results constant for this comparison)."
   ]
  },
  {
   "cell_type": "code",
   "execution_count": 102,
   "metadata": {},
   "outputs": [
    {
     "name": "stdout",
     "output_type": "stream",
     "text": [
      "🚀 New in VS Code 1.94! Attach variables from the Jupyter kernel in your Copilot chat requests for more relevant responses. Use `#` or the 📎 control. Learn more: https://code.visualstudio.com/updates/v1_94#_attach-variables-in-notebook-chat\n",
      "\n",
      "And in VS Code 1.88, the kernel state is now automatically included as context in Inline Chat for notebooks. This lets Copilot use the current state of the notebook to provide more relevant completions. Learn more: https://code.visualstudio.com/updates/v1_88#_notebook-kernel-state-as-context\n"
     ]
    }
   ],
   "source": [
    "final_answer = generate_llm_answer(q, retrieved_docs, completion_model=\"Mistral-small\")\n",
    "print(final_answer)"
   ]
  },
  {
   "cell_type": "code",
   "execution_count": 103,
   "metadata": {},
   "outputs": [
    {
     "name": "stdout",
     "output_type": "stream",
     "text": [
      "Here's a tweet-sized summary of the recent features for Copilot chat in notebooks:\n",
      "\n",
      "\"New in VS Code! 🚀 Attach variables from Jupyter kernel in notebook chat with Copilot. Add context with `#` or 📎 control. Get more precise control over chat requests and relevant responses. Learn more: https://code.visualstudio.com/updates/v1_94#_attach-variables-in-notebook-chat\"\n"
     ]
    }
   ],
   "source": [
    "final_answer = generate_llm_answer(q, retrieved_docs, completion_model=\"meta-llama-3-8b-instruct\")\n",
    "print(final_answer)"
   ]
  },
  {
   "cell_type": "markdown",
   "metadata": {},
   "source": [
    "## 🚀 Test combinations of AI models for the RAG system\n",
    "\n",
    "Use [GitHub Marketplace](https://github.com/marketplace/models) to find and experiment with AI models. Replace `embedidings_model` and `completion_model` names found in the marketplace:\n",
    "\n",
    "```python\n",
    "q = \"What are recent features for Copilot chat in notebooks?\"\n",
    "retrieved_docs = retrieve_and_embed_docs(q, embeddings_model=\"text-embedding-3-small\")\n",
    "final_answer = generate_llm_answer(q, retrieved_docs, completion_model=\"gpt-4o-mini\")\n",
    "print(final_answer)\n",
    "```"
   ]
  }
 ],
 "metadata": {
  "kernelspec": {
   "display_name": "demoey",
   "language": "python",
   "name": "python3"
  },
  "language_info": {
   "codemirror_mode": {
    "name": "ipython",
    "version": 3
   },
   "file_extension": ".py",
   "mimetype": "text/x-python",
   "name": "python",
   "nbconvert_exporter": "python",
   "pygments_lexer": "ipython3",
   "version": "3.11.3"
  }
 },
 "nbformat": 4,
 "nbformat_minor": 2
}
